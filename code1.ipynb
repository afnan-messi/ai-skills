{
 "cells": [
  {
   "cell_type": "code",
   "execution_count": 8,
   "id": "9fcfbbf6-235c-496f-aa4b-db55d292208a",
   "metadata": {},
   "outputs": [
    {
     "name": "stdin",
     "output_type": "stream",
     "text": [
      "enter the name of frist member: afnan\n",
      "enter the name of the second member: ayush\n"
     ]
    },
    {
     "name": "stdout",
     "output_type": "stream",
     "text": [
      "hello afnan and ayush you have won a cash price of 1cr rupees.\n"
     ]
    }
   ],
   "source": [
    "name1=input(\"enter the name of frist member:\")\n",
    "name2=input(\"enter the name of the second member:\")\n",
    "print(f\"hello {name1} and {name2} you have won a cash price of 1cr rupees.\")"
   ]
  },
  {
   "cell_type": "code",
   "execution_count": 5,
   "id": "51f566dd-ffa4-4d64-8655-6f7b0cef43ac",
   "metadata": {},
   "outputs": [
    {
     "name": "stdin",
     "output_type": "stream",
     "text": [
      "enter your name: ayush\n",
      "enetr your age: 21\n"
     ]
    },
    {
     "name": "stdout",
     "output_type": "stream",
     "text": [
      "hello ayush,you will turn 150 in the year 2153.\n"
     ]
    }
   ],
   "source": [
    "name=input(\"enter your name:\")\n",
    "age = int(input(\"enetr your age:\"))\n",
    "currnt_year=2025\n",
    "year_turn_150=current_year+(150-age)\n",
    "print(f\"hello {name},you will turn 150 in the year {year_turn_150}.\")"
   ]
  },
  {
   "cell_type": "code",
   "execution_count": 10,
   "id": "c220f7ec-0a86-4026-9840-5abae15ab38c",
   "metadata": {},
   "outputs": [
    {
     "name": "stdin",
     "output_type": "stream",
     "text": [
      "enter the first number: 18\n",
      "enter the second number: 20\n"
     ]
    },
    {
     "name": "stdout",
     "output_type": "stream",
     "text": [
      "38\n",
      "2\n",
      "360\n",
      "0.9\n"
     ]
    }
   ],
   "source": [
    "a=int(input(\"enter the first number:\"))\n",
    "b=int(input(\"enter the second number:\"))\n",
    "c=a+b\n",
    "d=b-a\n",
    "e=a*b\n",
    "f=a/b\n",
    "print(c)\n",
    "print(d)\n",
    "print(e)\n",
    "print(f)"
   ]
  },
  {
   "cell_type": "code",
   "execution_count": 13,
   "id": "29026955-214a-4a3a-a3a8-8075017ec9da",
   "metadata": {},
   "outputs": [
    {
     "name": "stdout",
     "output_type": "stream",
     "text": [
      "city name : banglore\n"
     ]
    }
   ],
   "source": [
    "city_name=\"banglore\"\n",
    "print(f\"city name : {city_name}\")"
   ]
  },
  {
   "cell_type": "code",
   "execution_count": 14,
   "id": "55a62fc9-970e-462e-9f49-980e60e3f719",
   "metadata": {},
   "outputs": [
    {
     "name": "stdout",
     "output_type": "stream",
     "text": [
      "city name is kolkata.\n"
     ]
    }
   ],
   "source": [
    "city_name=\"kolkata\"\n",
    "print(f\"city name is {city_name}.\")"
   ]
  },
  {
   "cell_type": "code",
   "execution_count": 15,
   "id": "0b08b9f2-daab-41f2-873e-b452028a8241",
   "metadata": {},
   "outputs": [
    {
     "name": "stdout",
     "output_type": "stream",
     "text": [
      "the sum of 15 and 32 is 47.\n"
     ]
    }
   ],
   "source": [
    "a = 15\n",
    "b=32\n",
    "sum=a+b\n",
    "print(f\"the sum of {a} and {b} is {sum}.\")"
   ]
  },
  {
   "cell_type": "code",
   "execution_count": 18,
   "id": "3aaf0232-e018-4a60-8c17-286864c3be23",
   "metadata": {},
   "outputs": [
    {
     "name": "stdout",
     "output_type": "stream",
     "text": [
      "the temperature of kolkata is 27℃.\n"
     ]
    }
   ],
   "source": [
    "temperature =27\n",
    "print(f\"the temperature of kolkata is {temperature}℃.\")"
   ]
  },
  {
   "cell_type": "code",
   "execution_count": 19,
   "id": "5f78f6ac-618f-4ec9-a718-13c1f228c6ef",
   "metadata": {},
   "outputs": [
    {
     "name": "stdout",
     "output_type": "stream",
     "text": [
      " carbon footprint:700.75kg CO2.\n"
     ]
    }
   ],
   "source": [
    "carbon_footprint=700.75\n",
    "print(f\" carbon footprint:{carbon_footprint}kg CO2.\")"
   ]
  },
  {
   "cell_type": "code",
   "execution_count": 20,
   "id": "e3d5d0ba-3fca-41c5-bbe3-837bf7cf134e",
   "metadata": {},
   "outputs": [
    {
     "data": {
      "text/plain": [
       "float"
      ]
     },
     "execution_count": 20,
     "metadata": {},
     "output_type": "execute_result"
    }
   ],
   "source": [
    "type(carbon_footprint)"
   ]
  },
  {
   "cell_type": "code",
   "execution_count": 22,
   "id": "430c6cdf-51c8-4ba7-8a36-7995f26ca2bc",
   "metadata": {},
   "outputs": [
    {
     "name": "stdout",
     "output_type": "stream",
     "text": [
      "is the city sustainable? False\n"
     ]
    }
   ],
   "source": [
    "is_sustainable= carbon_footprint<400\n",
    "print(f\"is the city sustainable? {is_sustainable}\")"
   ]
  },
  {
   "cell_type": "code",
   "execution_count": 26,
   "id": "9a00a96a-c067-4db6-9111-4571c1b50cdb",
   "metadata": {},
   "outputs": [
    {
     "name": "stdout",
     "output_type": "stream",
     "text": [
      "city_data is {'name': 'city a', 'temperature': 27, 'carbon_footprint': 700.75, 'is_sustainable': 'false'}.\n"
     ]
    }
   ],
   "source": [
    "city_data={\n",
    "    'name':'city a',\n",
    "    'temperature':27,\n",
    "    'carbon_footprint':700.75,\n",
    "    'is_sustainable':'false'\n",
    "}\n",
    "print(f\"city_data is {city_data}.\")"
   ]
  },
  {
   "cell_type": "code",
   "execution_count": 27,
   "id": "a2eca39a-c788-4b6a-b563-b8cc2f8c2ffa",
   "metadata": {},
   "outputs": [
    {
     "name": "stdout",
     "output_type": "stream",
     "text": [
      "city_name:city a,temperature:27,carbon_footprint:700.75.\n"
     ]
    }
   ],
   "source": [
    "city_name,temperature,carbon_footprint=\"city a\",27,700.75\n",
    "print(f\"city_name:{city_name},temperature:{temperature},carbon_footprint:{carbon_footprint}.\")"
   ]
  },
  {
   "cell_type": "code",
   "execution_count": null,
   "id": "e43347e1-82e8-489c-97e4-313fb4d728d1",
   "metadata": {},
   "outputs": [],
   "source": []
  }
 ],
 "metadata": {
  "kernelspec": {
   "display_name": "Python 3 (ipykernel)",
   "language": "python",
   "name": "python3"
  },
  "language_info": {
   "codemirror_mode": {
    "name": "ipython",
    "version": 3
   },
   "file_extension": ".py",
   "mimetype": "text/x-python",
   "name": "python",
   "nbconvert_exporter": "python",
   "pygments_lexer": "ipython3",
   "version": "3.12.8"
  }
 },
 "nbformat": 4,
 "nbformat_minor": 5
}
