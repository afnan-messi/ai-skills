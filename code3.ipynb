{
 "cells": [
  {
   "cell_type": "code",
   "execution_count": 11,
   "id": "4313e950-63b0-4226-b099-1209b87518e1",
   "metadata": {},
   "outputs": [
    {
     "name": "stdout",
     "output_type": "stream",
     "text": [
      "Original Energy Data with Missing Values:\n",
      "  Energy Source  Energy Consumption (Mwh)  Cost (Million $)\n",
      "0         Solar                    1200.0             200.0\n",
      "1          Wind                       NaN             400.0\n",
      "2    Hydropower                    2900.0               NaN\n",
      "3    Geothermal                       NaN             150.0\n",
      "4       Biomass                    2500.0             250.0\n",
      "5       Nuclear                    3200.0               NaN\n"
     ]
    }
   ],
   "source": [
    "import pandas as pd\n",
    "import numpy as np\n",
    "\n",
    "data = {\n",
    "    \"Energy Source\": [\"Solar\", \"Wind\", \"Hydropower\", \"Geothermal\", \"Biomass\", \"Nuclear\"],\n",
    "    \"Energy Consumption (Mwh)\": [1200, np.nan, 2900, np.nan, 2500, 3200],\n",
    "    \"Cost (Million $)\": [200, 400, np.nan, 150, 250, np.nan]\n",
    "}\n",
    "energy_df = pd.DataFrame(data)\n",
    "\n",
    "print(\"Original Energy Data with Missing Values:\")\n",
    "print(energy_df)"
   ]
  },
  {
   "cell_type": "code",
   "execution_count": 12,
   "id": "fdbf2cf4-8c31-4095-9bcc-a165dd4a9645",
   "metadata": {},
   "outputs": [
    {
     "name": "stdout",
     "output_type": "stream",
     "text": [
      "\n",
      "Data After Removing Rows with Missing Values:\n",
      "  Energy Source  Energy Consumption (Mwh)  Cost (Million $)\n",
      "0         Solar                    1200.0             200.0\n",
      "4       Biomass                    2500.0             250.0\n"
     ]
    }
   ],
   "source": [
    "\n",
    "cleaned_df = energy_df.dropna()\n",
    "\n",
    "print(\"\\nData After Removing Rows with Missing Values:\")\n",
    "print(cleaned_df)\n"
   ]
  },
  {
   "cell_type": "code",
   "execution_count": 13,
   "id": "56968a0c-6671-4b0c-a264-a807d2b7a69c",
   "metadata": {},
   "outputs": [
    {
     "name": "stdout",
     "output_type": "stream",
     "text": [
      "\n",
      "Data After Forward Filling:\n",
      "  Energy Source  Energy Consumption (Mwh)  Cost (Million $)\n",
      "0         Solar                    1200.0             200.0\n",
      "1          Wind                    1200.0             400.0\n",
      "2    Hydropower                    2900.0             400.0\n",
      "3    Geothermal                    2900.0             150.0\n",
      "4       Biomass                    2500.0             250.0\n",
      "5       Nuclear                    3200.0             250.0\n"
     ]
    },
    {
     "name": "stderr",
     "output_type": "stream",
     "text": [
      "C:\\Users\\afnan\\AppData\\Local\\Temp\\ipykernel_11452\\1939892600.py:1: FutureWarning: DataFrame.fillna with 'method' is deprecated and will raise in a future version. Use obj.ffill() or obj.bfill() instead.\n",
      "  forward_filled_df = energy_df.fillna(method=\"ffill\")\n"
     ]
    }
   ],
   "source": [
    "\n",
    "forward_filled_df = energy_df.fillna(method=\"ffill\")\n",
    "\n",
    "print(\"\\nData After Forward Filling:\")\n",
    "print(forward_filled_df)\n"
   ]
  },
  {
   "cell_type": "code",
   "execution_count": 14,
   "id": "beaa2e6f-d6ee-4dab-9e15-2948533a3bef",
   "metadata": {},
   "outputs": [
    {
     "name": "stdout",
     "output_type": "stream",
     "text": [
      "\n",
      "Data After Imputing Missing Values with Mean:\n",
      "  Energy Source  Energy Consumption (Mwh)  Cost (Million $)\n",
      "0         Solar                    1200.0             200.0\n",
      "1          Wind                    2450.0             400.0\n",
      "2    Hydropower                    2900.0             250.0\n",
      "3    Geothermal                    2450.0             150.0\n",
      "4       Biomass                    2500.0             250.0\n",
      "5       Nuclear                    3200.0             250.0\n"
     ]
    },
    {
     "name": "stderr",
     "output_type": "stream",
     "text": [
      "C:\\Users\\afnan\\AppData\\Local\\Temp\\ipykernel_11452\\4142939769.py:2: FutureWarning: A value is trying to be set on a copy of a DataFrame or Series through chained assignment using an inplace method.\n",
      "The behavior will change in pandas 3.0. This inplace method will never work because the intermediate object on which we are setting values always behaves as a copy.\n",
      "\n",
      "For example, when doing 'df[col].method(value, inplace=True)', try using 'df.method({col: value}, inplace=True)' or df[col] = df[col].method(value) instead, to perform the operation inplace on the original object.\n",
      "\n",
      "\n",
      "  energy_df[\"Energy Consumption (Mwh)\"].fillna(energy_df[\"Energy Consumption (Mwh)\"].mean(), inplace=True)\n",
      "C:\\Users\\afnan\\AppData\\Local\\Temp\\ipykernel_11452\\4142939769.py:5: FutureWarning: A value is trying to be set on a copy of a DataFrame or Series through chained assignment using an inplace method.\n",
      "The behavior will change in pandas 3.0. This inplace method will never work because the intermediate object on which we are setting values always behaves as a copy.\n",
      "\n",
      "For example, when doing 'df[col].method(value, inplace=True)', try using 'df.method({col: value}, inplace=True)' or df[col] = df[col].method(value) instead, to perform the operation inplace on the original object.\n",
      "\n",
      "\n",
      "  energy_df[\"Cost (Million $)\"].fillna(energy_df[\"Cost (Million $)\"].mean(), inplace=True)\n"
     ]
    }
   ],
   "source": [
    "# Impute missing values in 'Energy Consumption (MWh)' with the mean\n",
    "energy_df[\"Energy Consumption (Mwh)\"].fillna(energy_df[\"Energy Consumption (Mwh)\"].mean(), inplace=True)\n",
    "\n",
    "# Impute missing values in 'Cost (Million $)' with the mean\n",
    "energy_df[\"Cost (Million $)\"].fillna(energy_df[\"Cost (Million $)\"].mean(), inplace=True)\n",
    "\n",
    "print(\"\\nData After Imputing Missing Values with Mean:\")\n",
    "print(energy_df)\n"
   ]
  },
  {
   "cell_type": "code",
   "execution_count": 15,
   "id": "a3bca0a2-9c83-4709-ade4-5adac9d4e4e0",
   "metadata": {},
   "outputs": [
    {
     "name": "stdout",
     "output_type": "stream",
     "text": [
      "\n",
      "Data with Missing Values Flagged:\n",
      "  Energy Source  Energy Consumption (Mwh)  Cost (Million $)  \\\n",
      "0         Solar                    1200.0             200.0   \n",
      "1          Wind                    2450.0             400.0   \n",
      "2    Hydropower                    2900.0             250.0   \n",
      "3    Geothermal                    2450.0             150.0   \n",
      "4       Biomass                    2500.0             250.0   \n",
      "5       Nuclear                    3200.0             250.0   \n",
      "\n",
      "   Missing Consumption (Mwh  \n",
      "0                         0  \n",
      "1                         0  \n",
      "2                         0  \n",
      "3                         0  \n",
      "4                         0  \n",
      "5                         0  \n"
     ]
    }
   ],
   "source": [
    "# Create a flag column indicating missing values in 'Energy Consumption (MWh)'\n",
    "energy_df['Missing Consumption (Mwh'] = energy_df['Energy Consumption (Mwh)'].isna().astype(int)\n",
    "\n",
    "print(\"\\nData with Missing Values Flagged:\")\n",
    "print(energy_df)"
   ]
  },
  {
   "cell_type": "code",
   "execution_count": 16,
   "id": "a753a911-fb3e-4610-9840-74ee55477017",
   "metadata": {},
   "outputs": [
    {
     "name": "stdout",
     "output_type": "stream",
     "text": [
      "  Energy Source  Energy Consumption (Mwh)  Cost (Million $)  \\\n",
      "0         Solar                 -2.005893         -0.654654   \n",
      "1          Wind                  0.000000          1.963961   \n",
      "2    Hydropower                  0.722121          0.000000   \n",
      "3    Geothermal                  0.000000         -1.309307   \n",
      "4       Biomass                  0.080236          0.000000   \n",
      "5       Nuclear                  1.203536          0.000000   \n",
      "\n",
      "   Missing Consumption (Mwh  \n",
      "0                         0  \n",
      "1                         0  \n",
      "2                         0  \n",
      "3                         0  \n",
      "4                         0  \n",
      "5                         0  \n"
     ]
    }
   ],
   "source": [
    "from sklearn.preprocessing import StandardScaler\n",
    "\n",
    "# Normalize the 'Energy Consumption (Mwh)' and 'Cost (Million $)'\n",
    "scaler = StandardScaler()\n",
    "energy_df[[\"Energy Consumption (Mwh)\", \"Cost (Million $)\"]] = scaler.fit_transform(\n",
    "    energy_df[[\"Energy Consumption (Mwh)\", \"Cost (Million $)\"]]\n",
    ")\n",
    "print(energy_df)"
   ]
  },
  {
   "cell_type": "code",
   "execution_count": 18,
   "id": "08776551-d162-4b82-9510-5858e6dcf199",
   "metadata": {},
   "outputs": [
    {
     "name": "stdout",
     "output_type": "stream",
     "text": [
      "\n",
      "Data After Normalization (Min-Max Scaling):\n",
      "  Energy Source  Energy Consumption (Mwh)  Cost (Million $)  \\\n",
      "0         Solar                     0.000               0.2   \n",
      "1          Wind                     0.625               1.0   \n",
      "2    Hydropower                     0.850               0.4   \n",
      "3    Geothermal                     0.625               0.0   \n",
      "4       Biomass                     0.650               0.4   \n",
      "5       Nuclear                     1.000               0.4   \n",
      "\n",
      "   Missing Consumption (Mwh  \n",
      "0                         0  \n",
      "1                         0  \n",
      "2                         0  \n",
      "3                         0  \n",
      "4                         0  \n",
      "5                         0  \n"
     ]
    }
   ],
   "source": [
    "from sklearn.preprocessing import MinMaxScaler\n",
    "\n",
    "# Normalize the 'Energy Consumption (MWh)' and 'Cost (Million $)'\n",
    "scaler = MinMaxScaler()\n",
    "energy_df[['Energy Consumption (Mwh)', 'Cost (Million $)']] = scaler.fit_transform(\n",
    "    energy_df[['Energy Consumption (Mwh)', 'Cost (Million $)']]\n",
    ")\n",
    "\n",
    "print(\"\\nData After Normalization (Min-Max Scaling):\")\n",
    "print(energy_df)"
   ]
  },
  {
   "cell_type": "code",
   "execution_count": 20,
   "id": "8edc365a-5f16-4810-9791-0f85f1d0862d",
   "metadata": {},
   "outputs": [
    {
     "name": "stdout",
     "output_type": "stream",
     "text": [
      "\n",
      "Data After One-Hot Encoding Categorical Variables:\n",
      "   Energy Consumption (Mwh)  Cost (Million $)  Missing Consumption (Mwh  \\\n",
      "0                     0.000               0.2                         0   \n",
      "1                     0.625               1.0                         0   \n",
      "2                     0.850               0.4                         0   \n",
      "3                     0.625               0.0                         0   \n",
      "4                     0.650               0.4                         0   \n",
      "5                     1.000               0.4                         0   \n",
      "\n",
      "   Energy Source_Biomass  Energy Source_Geothermal  Energy Source_Hydropower  \\\n",
      "0                  False                     False                     False   \n",
      "1                  False                     False                     False   \n",
      "2                  False                     False                      True   \n",
      "3                  False                      True                     False   \n",
      "4                   True                     False                     False   \n",
      "5                  False                     False                     False   \n",
      "\n",
      "   Energy Source_Nuclear  Energy Source_Solar  Energy Source_Wind  \n",
      "0                  False                 True               False  \n",
      "1                  False                False                True  \n",
      "2                  False                False               False  \n",
      "3                  False                False               False  \n",
      "4                  False                False               False  \n",
      "5                   True                False               False  \n"
     ]
    }
   ],
   "source": [
    "\n",
    "energy_encoded_df = pd.get_dummies(energy_df, columns=[\"Energy Source\"])\n",
    "\n",
    "print(\"\\nData After One-Hot Encoding Categorical Variables:\")\n",
    "print(energy_encoded_df)"
   ]
  },
  {
   "cell_type": "code",
   "execution_count": 21,
   "id": "1991f0d4-9078-4220-ae7a-cf0559bac2a4",
   "metadata": {},
   "outputs": [
    {
     "name": "stdout",
     "output_type": "stream",
     "text": [
      "Data with New Feature (Consumption per $Million):\n",
      "   Energy Consumption (Mwh)  Cost (Million $)  Missing Consumption (Mwh  \\\n",
      "0                     0.000               0.2                         0   \n",
      "1                     0.625               1.0                         0   \n",
      "2                     0.850               0.4                         0   \n",
      "3                     0.625               0.0                         0   \n",
      "4                     0.650               0.4                         0   \n",
      "5                     1.000               0.4                         0   \n",
      "\n",
      "   Energy Source_Biomass  Energy Source_Geothermal  Energy Source_Hydropower  \\\n",
      "0                  False                     False                     False   \n",
      "1                  False                     False                     False   \n",
      "2                  False                     False                      True   \n",
      "3                  False                      True                     False   \n",
      "4                   True                     False                     False   \n",
      "5                  False                     False                     False   \n",
      "\n",
      "   Energy Source_Nuclear  Energy Source_Solar  Energy Source_Wind  \\\n",
      "0                  False                 True               False   \n",
      "1                  False                False                True   \n",
      "2                  False                False               False   \n",
      "3                  False                False               False   \n",
      "4                  False                False               False   \n",
      "5                   True                False               False   \n",
      "\n",
      "   Consumption per $Million  \n",
      "0                     0.000  \n",
      "1                     0.625  \n",
      "2                     2.125  \n",
      "3                       inf  \n",
      "4                     1.625  \n",
      "5                     2.500  \n"
     ]
    }
   ],
   "source": [
    "\n",
    "energy_encoded_df[\"Consumption per $Million\"] = energy_encoded_df[\"Energy Consumption (Mwh)\"] / energy_encoded_df[\"Cost (Million $)\"]\n",
    "\n",
    "print(\"Data with New Feature (Consumption per $Million):\")\n",
    "print(energy_encoded_df)"
   ]
  },
  {
   "cell_type": "code",
   "execution_count": null,
   "id": "1d351754-3b4e-4d5b-9476-3a3b47d1f727",
   "metadata": {},
   "outputs": [],
   "source": []
  }
 ],
 "metadata": {
  "kernelspec": {
   "display_name": "Python 3 (ipykernel)",
   "language": "python",
   "name": "python3"
  },
  "language_info": {
   "codemirror_mode": {
    "name": "ipython",
    "version": 3
   },
   "file_extension": ".py",
   "mimetype": "text/x-python",
   "name": "python",
   "nbconvert_exporter": "python",
   "pygments_lexer": "ipython3",
   "version": "3.12.8"
  }
 },
 "nbformat": 4,
 "nbformat_minor": 5
}
