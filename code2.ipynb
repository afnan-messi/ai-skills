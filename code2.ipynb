{
 "cells": [
  {
   "cell_type": "code",
   "execution_count": 1,
   "id": "860f196e-c962-4406-9227-4272c8e76d5f",
   "metadata": {},
   "outputs": [
    {
     "name": "stdout",
     "output_type": "stream",
     "text": [
      "Carbon footprint : 475.0 kg C02\n"
     ]
    }
   ],
   "source": [
    "def calculate_carbon_footprint(energy_consumption, emission_factor):\n",
    "    return energy_consumption * emission_factor\n",
    "energy_consumption = 1000\n",
    "emission_factor = 0.475\n",
    "carbon_footprint = calculate_carbon_footprint(energy_consumption, emission_factor)\n",
    "print(f\"Carbon footprint : {carbon_footprint} kg C02\")"
   ]
  },
  {
   "cell_type": "code",
   "execution_count": 2,
   "id": "9be3833e-2756-4b72-a82d-e99e80f0d0f6",
   "metadata": {},
   "outputs": [],
   "source": [
    "import pandas as pd\n",
    "renewable_sources = [\"Solar\", \"Wind\", \"Hydropower\", \"Geothermal\", \"Biomass\"]\n",
    "data = {\n",
    "    \"Project\": [\"Solar Farm A\", \"Wind Turbine X\", \"Hydropower Y\", \"Solar Roof Z\", \"Geothermal Plant P\"],\n",
    "    \"Technology\": [\"Solar\", \"Wind\", \"Hydropower\", \"Solar\", \"Geothermal\"],\n",
    "    \"Capacity (MW)\": [150, 300, 200, 50, 100],  \n",
    "    \"Cost (Million $)\": [200, 400, 350, 100, 250],  \n",
    "    \"Location\": [\"California\", \"Texas\", \"Washington\", \"Nevada\", \"Idaho\"],\n",
    "    \"Completion Year\": [2023, 2024, 2022, 2025, 2023]\n",
    "}"
   ]
  },
  {
   "cell_type": "code",
   "execution_count": 3,
   "id": "98dad3e8-d2de-4084-991f-fdcff68d23a6",
   "metadata": {},
   "outputs": [
    {
     "name": "stdout",
     "output_type": "stream",
     "text": [
      "Requirement already satisfied: numpy in c:\\users\\afnan\\appdata\\local\\programs\\python\\python312\\lib\\site-packages (2.2.3)\n",
      "Note: you may need to restart the kernel to use updated packages.\n"
     ]
    },
    {
     "name": "stderr",
     "output_type": "stream",
     "text": [
      "\n",
      "[notice] A new release of pip is available: 24.3.1 -> 25.0.1\n",
      "[notice] To update, run: python.exe -m pip install --upgrade pip\n"
     ]
    }
   ],
   "source": [
    "pip install numpy\n"
   ]
  },
  {
   "cell_type": "code",
   "execution_count": 5,
   "id": "dc60e2c8-0f1c-46f0-9981-ab2bff01d1bf",
   "metadata": {},
   "outputs": [
    {
     "name": "stdout",
     "output_type": "stream",
     "text": [
      "renewable energy source:\n",
      "0         Solar\n",
      "1          Wind\n",
      "2    Hydropower\n",
      "3    Geothermal\n",
      "4       Biomass\n",
      "dtype: object\n"
     ]
    }
   ],
   "source": [
    "renewable_series=pd.Series(renewable_sources)\n",
    "print(\"renewable energy source:\")\n",
    "print(renewable_series)"
   ]
  },
  {
   "cell_type": "code",
   "execution_count": 6,
   "id": "e5744b32-8bfe-46f7-8ead-ff11b41109ff",
   "metadata": {},
   "outputs": [
    {
     "name": "stdout",
     "output_type": "stream",
     "text": [
      "Green Technology Projects DataFrame\n",
      "              Project  Technology  Capacity (MW)  Cost (Million $)  \\\n",
      "0        Solar Farm A       Solar            150               200   \n",
      "1      Wind Turbine X        Wind            300               400   \n",
      "2        Hydropower Y  Hydropower            200               350   \n",
      "3        Solar Roof Z       Solar             50               100   \n",
      "4  Geothermal Plant P  Geothermal            100               250   \n",
      "\n",
      "     Location  Completion Year  \n",
      "0  California             2023  \n",
      "1       Texas             2024  \n",
      "2  Washington             2022  \n",
      "3      Nevada             2025  \n",
      "4       Idaho             2023  \n"
     ]
    }
   ],
   "source": [
    "project_df=pd.DataFrame(data)\n",
    "print('Green Technology Projects DataFrame')\n",
    "print(project_df)"
   ]
  },
  {
   "cell_type": "code",
   "execution_count": 8,
   "id": "b9d2bae5-d97f-47bb-9608-2a612fe43685",
   "metadata": {},
   "outputs": [
    {
     "name": "stdout",
     "output_type": "stream",
     "text": [
      "\n",
      " list of projects\n",
      "0          Solar Farm A\n",
      "1        Wind Turbine X\n",
      "2          Hydropower Y\n",
      "3          Solar Roof Z\n",
      "4    Geothermal Plant P\n",
      "Name: Project, dtype: object\n"
     ]
    }
   ],
   "source": [
    "print(\"\\n list of projects\")\n",
    "print(project_df[\"Project\"])"
   ]
  },
  {
   "cell_type": "code",
   "execution_count": 10,
   "id": "f71361ee-8a7c-42db-9447-4ffe4b1d15a2",
   "metadata": {},
   "outputs": [
    {
     "name": "stdout",
     "output_type": "stream",
     "text": [
      "\n",
      "Projects with Capacity Greater than 100 MW:\n",
      "          Project  Technology  Capacity (MW)  Cost (Million $)    Location  \\\n",
      "0    Solar Farm A       Solar            150               200  California   \n",
      "1  Wind Turbine X        Wind            300               400       Texas   \n",
      "2    Hydropower Y  Hydropower            200               350  Washington   \n",
      "\n",
      "   Completion Year  \n",
      "0             2023  \n",
      "1             2024  \n",
      "2             2022  \n"
     ]
    }
   ],
   "source": [
    "\n",
    "high_capacity_projects = project_df[project_df[\"Capacity (MW)\"] > 100]\n",
    "\n",
    "print(\"\\nProjects with Capacity Greater than 100 MW:\")\n",
    "print(high_capacity_projects)\n"
   ]
  },
  {
   "cell_type": "code",
   "execution_count": 11,
   "id": "f89a69ec-30a5-4aed-be38-9fbb3ef570fc",
   "metadata": {},
   "outputs": [
    {
     "name": "stdout",
     "output_type": "stream",
     "text": [
      "\n",
      "Total Capacity of all projects: 800 MW\n",
      "Total Cost of all projects: $1300 million\n"
     ]
    }
   ],
   "source": [
    "\n",
    "total_capacity = project_df[\"Capacity (MW)\"].sum()\n",
    "total_cost = project_df[\"Cost (Million $)\"].sum()\n",
    "\n",
    "print(f\"\\nTotal Capacity of all projects: {total_capacity} MW\")\n",
    "print(f\"Total Cost of all projects: ${total_cost} million\")\n"
   ]
  },
  {
   "cell_type": "code",
   "execution_count": 13,
   "id": "b8a405b4-c88c-4f4a-9e14-b975952359fc",
   "metadata": {},
   "outputs": [
    {
     "name": "stdout",
     "output_type": "stream",
     "text": [
      "\n",
      "Total Capacity by Technology:\n",
      "Technology\n",
      "Geothermal    100\n",
      "Hydropower    200\n",
      "Solar         200\n",
      "Wind          300\n",
      "Name: Capacity (MW), dtype: int64\n"
     ]
    }
   ],
   "source": [
    "\n",
    "grouped_data = project_df.groupby(\"Technology\")[\"Capacity (MW)\"].sum()\n",
    "\n",
    "print(\"\\nTotal Capacity by Technology:\")\n",
    "print(grouped_data)\n"
   ]
  },
  {
   "cell_type": "code",
   "execution_count": 14,
   "id": "1de9750e-c765-40b1-86d4-ecc9a0dda0c5",
   "metadata": {},
   "outputs": [
    {
     "name": "stdout",
     "output_type": "stream",
     "text": [
      "Energy Consumption (in MWh) for Different Renewable Sources:\n",
      "[1200 3400 2900 1800 2500]\n"
     ]
    }
   ],
   "source": [
    "import numpy as np\n",
    "energy_consumption = np.array([1200, 3400, 2900, 1800, 2500])\n",
    "print(\"Energy Consumption (in MWh) for Different Renewable Sources:\")\n",
    "print(energy_consumption)\n"
   ]
  },
  {
   "cell_type": "code",
   "execution_count": 15,
   "id": "724b1470-2df0-47c8-a606-6aa29ecbeeef",
   "metadata": {},
   "outputs": [
    {
     "name": "stdout",
     "output_type": "stream",
     "text": [
      "\n",
      "Total Energy Consumption: 11800 MWh\n"
     ]
    }
   ],
   "source": [
    "\n",
    "total_consumption = np.sum(energy_consumption)\n",
    "\n",
    "print(f\"\\nTotal Energy Consumption: {total_consumption} MWh\")\n"
   ]
  },
  {
   "cell_type": "code",
   "execution_count": 16,
   "id": "06447e7c-2bf3-43c0-bac5-44bda63812e4",
   "metadata": {},
   "outputs": [
    {
     "name": "stdout",
     "output_type": "stream",
     "text": [
      "\n",
      "Total Energy Consumption: 2360.00 MWh\n"
     ]
    }
   ],
   "source": [
    "# Calculate the total energy consumption\n",
    "total_consumption = np.mean(energy_consumption)\n",
    "\n",
    "print(f\"\\nTotal Energy Consumption: {total_consumption:.2f} MWh\")\n"
   ]
  },
  {
   "cell_type": "code",
   "execution_count": 17,
   "id": "29443454-3166-4ec0-b1d2-9cb64b50cc88",
   "metadata": {},
   "outputs": [
    {
     "name": "stdout",
     "output_type": "stream",
     "text": [
      "\n",
      "Total Energy Consumption: 781.28 MWh\n"
     ]
    }
   ],
   "source": [
    "# Calculate the total energy consumption\n",
    "total_consumption = np.std(energy_consumption)\n",
    "\n",
    "print(f\"\\nTotal Energy Consumption: {total_consumption:.2f} MWh\")\n"
   ]
  },
  {
   "cell_type": "code",
   "execution_count": null,
   "id": "02dae325-810c-46e8-986e-048aaeb685ba",
   "metadata": {},
   "outputs": [],
   "source": []
  }
 ],
 "metadata": {
  "kernelspec": {
   "display_name": "Python 3 (ipykernel)",
   "language": "python",
   "name": "python3"
  },
  "language_info": {
   "codemirror_mode": {
    "name": "ipython",
    "version": 3
   },
   "file_extension": ".py",
   "mimetype": "text/x-python",
   "name": "python",
   "nbconvert_exporter": "python",
   "pygments_lexer": "ipython3",
   "version": "3.12.8"
  }
 },
 "nbformat": 4,
 "nbformat_minor": 5
}
